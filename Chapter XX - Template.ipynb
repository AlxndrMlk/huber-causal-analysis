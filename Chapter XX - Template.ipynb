{
 "cells": [
  {
   "cell_type": "code",
   "execution_count": 5,
   "id": "39c54c8f",
   "metadata": {},
   "outputs": [],
   "source": [
    "from typing import Dict\n",
    "\n",
    "import numpy as np\n",
    "import pandas as pd\n",
    "\n",
    "import statsmodels.api as sm\n",
    "from sklearn.linear_model import LinearRegression\n",
    "\n",
    "from scipy.stats import norm\n",
    "\n",
    "from tqdm import tqdm\n",
    "\n",
    "import matplotlib.pyplot as plt\n",
    "plt.style.use('fivethirtyeight')"
   ]
  },
  {
   "cell_type": "markdown",
   "id": "b390095c",
   "metadata": {},
   "source": [
    "# *Causal Analysis* by Martin Huber (2023) || `Python code`\n",
    "\n",
    "\n",
    "<br>\n",
    "<img src=\"img/Bild Causal Analysis.JPG\" width=150 align=\"center\">\n",
    "\n",
    "<br>\n",
    "\n",
    "\n",
    "This is a **Jupyter Notebook** adaptation of [**Python code**](https://www.unifr.ch/appecon/en/assets/public/uploads/causal%20analysis%20-%20python%20examples_09.01.24.txt) for [**Causal Analysis**: Impact Evaluation and Causaal Machine Learning with Applications in R](https://amzn.to/3tCqu2z) by [Martin Huber](https://twitter.com/CausalHuber) (2023).\n",
    "\n",
    "<br>\n",
    "\n",
    "Adapted by [**Aleksander Molak**](https://alxndr.io) / [**CausalPython**](https://causalpython.io).\n",
    "\n",
    "<a href=\"https://causalpython.io\"><img src=\"img/CausalPython.io__flat.png\" width=200 align=\"left\"></a>\n",
    "\n"
   ]
  },
  {
   "cell_type": "markdown",
   "id": "51233df1",
   "metadata": {},
   "source": [
    "## Chapter 04\n",
    "### TBC"
   ]
  },
  {
   "cell_type": "markdown",
   "id": "6cbd37ea",
   "metadata": {},
   "source": [
    "#### Snippet 01\n",
    "\n",
    "TBC"
   ]
  },
  {
   "cell_type": "code",
   "execution_count": 1,
   "id": "c7cbfd21",
   "metadata": {},
   "outputs": [],
   "source": [
    "# Code cell"
   ]
  }
 ],
 "metadata": {
  "kernelspec": {
   "display_name": "Python 3 (ipykernel)",
   "language": "python",
   "name": "python3"
  },
  "language_info": {
   "codemirror_mode": {
    "name": "ipython",
    "version": 3
   },
   "file_extension": ".py",
   "mimetype": "text/x-python",
   "name": "python",
   "nbconvert_exporter": "python",
   "pygments_lexer": "ipython3",
   "version": "3.9.18"
  }
 },
 "nbformat": 4,
 "nbformat_minor": 5
}
